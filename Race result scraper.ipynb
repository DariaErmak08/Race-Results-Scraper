{
 "cells": [
  {
   "cell_type": "markdown",
   "id": "c6ab2e47-6890-4b90-a1e8-b3f25b948b82",
   "metadata": {},
   "source": [
    "# 🛠️ Scraping template for race results (pagination + CSV saving)"
   ]
  },
  {
   "cell_type": "code",
   "execution_count": 2,
   "id": "a2afe9b9-4567-46a0-8683-0b0053821bf7",
   "metadata": {},
   "outputs": [],
   "source": [
    "import requests\n",
    "from bs4 import BeautifulSoup\n",
    "import pandas as pd\n",
    "import time\n",
    "import random"
   ]
  },
  {
   "cell_type": "markdown",
   "id": "6b947876-2098-4407-9995-2ffe6e8d8d54",
   "metadata": {},
   "source": [
    "# ---------------------- CONFIGURATION ----------------------"
   ]
  },
  {
   "cell_type": "code",
   "execution_count": 3,
   "id": "0aa6937a-010f-4455-9361-693c8d2d977c",
   "metadata": {},
   "outputs": [],
   "source": [
    "BASE_URL = 'https://example.com/race-results?page='  # Example, change for real project\n",
    "START_PAGE = 1\n",
    "END_PAGE = 5  # Will update dynamically if needed\n",
    "DELAY_RANGE = (1, 3)  # Seconds between requests\n",
    "\n",
    "# Output CSV filenames\n",
    "RESULTS_CSV = 'race_results.csv'\n",
    "RACE_INFO_CSV = 'race_info.csv'"
   ]
  },
  {
   "cell_type": "markdown",
   "id": "d4cb3597-6884-49ec-9a21-27ac91947e29",
   "metadata": {},
   "source": [
    "# ---------------------- DATA STORAGE ----------------------"
   ]
  },
  {
   "cell_type": "code",
   "execution_count": 4,
   "id": "3ac1ff1a-4cd7-4428-b2e0-a67422f34670",
   "metadata": {},
   "outputs": [],
   "source": [
    "race_results = []\n",
    "race_info = []"
   ]
  },
  {
   "cell_type": "markdown",
   "id": "734d65ae-ffd7-435f-a1df-9b9e7f22e8b3",
   "metadata": {},
   "source": [
    "# ---------------------- SCRAPING FUNCTION ----------------------"
   ]
  },
  {
   "cell_type": "code",
   "execution_count": 5,
   "id": "27c4ca78-85b3-41e5-8508-bd7cad90ad36",
   "metadata": {},
   "outputs": [],
   "source": [
    "def scrape_page(url):\n",
    "    response = requests.get(url, headers={\"User-Agent\": \"Mozilla/5.0\"})\n",
    "    if response.status_code != 200:\n",
    "        print(f\"Failed to fetch {url}\")\n",
    "        return None\n",
    "    return BeautifulSoup(response.text, 'html.parser')"
   ]
  },
  {
   "cell_type": "markdown",
   "id": "401b9f64-70d1-4876-b631-67f1f101add6",
   "metadata": {},
   "source": [
    "# ---------------------- MAIN LOOP ----------------------"
   ]
  },
  {
   "cell_type": "code",
   "execution_count": null,
   "id": "c19c652d-c1c5-4f0c-9056-831f0d6d3509",
   "metadata": {},
   "outputs": [],
   "source": [
    "for page in range(START_PAGE, END_PAGE + 1):\n",
    "    print(f\"Scraping page {page}...\")\n",
    "    url = f\"{BASE_URL}{page}\"\n",
    "    soup = scrape_page(url)\n",
    "    if soup is None:\n",
    "        continue\n",
    "\n",
    "    # Find table rows (adapt to real HTML structure)\n",
    "    table_rows = soup.find_all('tr')\n",
    "    \n",
    "    for row in table_rows[1:]:  # Skip header\n",
    "        cols = row.find_all('td')\n",
    "        if len(cols) > 5:  # Check if expected number of columns exist\n",
    "            race_results.append({\n",
    "                'Name': cols[0].text.strip(),\n",
    "                'Age': cols[1].text.strip(),\n",
    "                'Gender': cols[2].text.strip(),\n",
    "                'Finish Time': cols[3].text.strip(),\n",
    "                'Overall Place': cols[4].text.strip(),\n",
    "                'Division': cols[5].text.strip(),\n",
    "                'City/State/Country': cols[6].text.strip() if len(cols) > 6 else ''\n",
    "            })\n",
    "\n",
    "    # Delay to not overload server\n",
    "    time.sleep(random.uniform(*DELAY_RANGE))\n",
    "\n",
    "# Example static race info (can also be parsed)\n",
    "race_info.append({\n",
    "    'Race Name': 'Sample Race',\n",
    "    'Date': '2024-01-01',\n",
    "    'Location': 'New York, USA',\n",
    "    'Distance': '10K'\n",
    "})"
   ]
  },
  {
   "cell_type": "markdown",
   "id": "73ba8b2c-5952-4143-9773-14153dd5ad06",
   "metadata": {},
   "source": [
    "# ---------------------- SAVE RESULTS ----------------------"
   ]
  },
  {
   "cell_type": "code",
   "execution_count": null,
   "id": "b4096719-283b-4766-aac8-360e01a39a87",
   "metadata": {},
   "outputs": [],
   "source": [
    "# ---------------------- SAVE RESULTS ----------------------\n",
    "pd.DataFrame(race_results).to_csv(f'data/{RESULTS_CSV}', index=False)\n",
    "pd.DataFrame(race_info).to_csv(f'data/{RACE_INFO_CSV}', index=False)\n",
    "\n",
    "print(f\"✅ Scraping complete! Data saved in 'data/' folder.\")"
   ]
  }
 ],
 "metadata": {
  "kernelspec": {
   "display_name": "Python 3 (ipykernel)",
   "language": "python",
   "name": "python3"
  },
  "language_info": {
   "codemirror_mode": {
    "name": "ipython",
    "version": 3
   },
   "file_extension": ".py",
   "mimetype": "text/x-python",
   "name": "python",
   "nbconvert_exporter": "python",
   "pygments_lexer": "ipython3",
   "version": "3.13.1"
  }
 },
 "nbformat": 4,
 "nbformat_minor": 5
}
